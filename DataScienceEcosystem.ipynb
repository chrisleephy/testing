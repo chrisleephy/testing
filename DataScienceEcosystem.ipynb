{
 "cells": [
  {
   "cell_type": "markdown",
   "id": "c30f14cb-151e-4fe4-a52f-497bc9d8a663",
   "metadata": {
    "tags": []
   },
   "source": [
    "# Data Science Tools and Ecosystem"
   ]
  },
  {
   "cell_type": "markdown",
   "id": "b4484949-6b96-4f5c-bac8-b00bde818422",
   "metadata": {},
   "source": [
    "In this notebook, Data Science Tools and Ecosystem are summarized."
   ]
  },
  {
   "cell_type": "markdown",
   "id": "0cf3533b-393e-481a-b799-fe553d346b68",
   "metadata": {},
   "source": [
    "# **Objectives:**\n",
    "- List popular languages for Data Science\n",
    "- List popular package\n",
    "- DS tools\n",
    "- Learn Markdown\n",
    "- Try coding"
   ]
  },
  {
   "cell_type": "markdown",
   "id": "b560f68d-8a17-4fa5-ac94-c538b998a026",
   "metadata": {},
   "source": [
    "Some of the popular languages that Data Scientists use are:\n",
    "1. Python\n",
    "2. R\n",
    "3. Java"
   ]
  },
  {
   "cell_type": "markdown",
   "id": "dbd941b0-eaf5-4ffe-86ce-0d6688e4df50",
   "metadata": {},
   "source": [
    "Some of the commonly used libraries used by Data Scientists include:\n",
    "1. NumPy\n",
    "2. Pandas\n",
    "3. SciPY"
   ]
  },
  {
   "cell_type": "markdown",
   "id": "82bd4fd6-ab80-48ec-8a96-8fb281a93d97",
   "metadata": {},
   "source": [
    "|Data Science Tools|\n",
    "|:-|\n",
    "|Jupyter Notebook|\n",
    "|RStudio|\n",
    "|Visual Studio Code (VS Code)|"
   ]
  },
  {
   "cell_type": "markdown",
   "id": "77d1028e-dc1e-4206-991f-415855908e8f",
   "metadata": {},
   "source": [
    "### Below are a few examples of evaluating arithmetic expressions in Python"
   ]
  },
  {
   "cell_type": "code",
   "execution_count": 1,
   "id": "4137767a-c61e-4bb9-b32b-11b6b9c29afd",
   "metadata": {
    "tags": []
   },
   "outputs": [
    {
     "data": {
      "text/plain": [
       "17"
      ]
     },
     "execution_count": 1,
     "metadata": {},
     "output_type": "execute_result"
    }
   ],
   "source": [
    "#This a simple arithmetic expression to mutiply then add integers\n",
    "(3*4)+5"
   ]
  },
  {
   "cell_type": "code",
   "execution_count": 2,
   "id": "b3eddc5e-84eb-4800-8e17-3b112323e416",
   "metadata": {
    "tags": []
   },
   "outputs": [],
   "source": [
    "#This will convert 200 minutes to hours by diving by 60"
   ]
  },
  {
   "cell_type": "code",
   "execution_count": 3,
   "id": "2b7b881c-34f1-4761-b22e-49c77c41246d",
   "metadata": {
    "tags": []
   },
   "outputs": [
    {
     "data": {
      "text/plain": [
       "33.333333333333336"
      ]
     },
     "execution_count": 3,
     "metadata": {},
     "output_type": "execute_result"
    }
   ],
   "source": [
    "200/6"
   ]
  },
  {
   "cell_type": "markdown",
   "id": "38152457-dfb5-4df4-9328-d721695ce23f",
   "metadata": {},
   "source": [
    "## Author\n",
    "Chris"
   ]
  },
  {
   "cell_type": "code",
   "execution_count": null,
   "id": "ea7c8a6e-2a97-4435-b594-418683d7fd4e",
   "metadata": {},
   "outputs": [],
   "source": []
  }
 ],
 "metadata": {
  "kernelspec": {
   "display_name": "Python",
   "language": "python",
   "name": "conda-env-python-py"
  },
  "language_info": {
   "codemirror_mode": {
    "name": "ipython",
    "version": 3
   },
   "file_extension": ".py",
   "mimetype": "text/x-python",
   "name": "python",
   "nbconvert_exporter": "python",
   "pygments_lexer": "ipython3",
   "version": "3.7.12"
  }
 },
 "nbformat": 4,
 "nbformat_minor": 5
}
